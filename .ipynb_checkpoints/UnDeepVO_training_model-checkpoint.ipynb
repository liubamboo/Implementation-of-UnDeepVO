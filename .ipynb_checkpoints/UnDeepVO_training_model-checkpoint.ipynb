{
 "cells": [
  {
   "cell_type": "code",
   "execution_count": 1,
   "metadata": {},
   "outputs": [],
   "source": [
    "import tensorflow as tf\n",
    "from nets.dep_network import depth_estimation\n",
    "from nets.pose_network import pose_est\n",
    "from losses import *\n",
    "from utils import *\n",
    "from data_loader import data_loader_with_batch,load_intrinsic"
   ]
  },
  {
   "cell_type": "code",
   "execution_count": null,
   "metadata": {},
   "outputs": [],
   "source": [
    "optimizer = tf.keras.optimizers.Adam(learning_rate=.001)\n",
    "batch=2        \n",
    "epsilon=0.0000001\n",
    "@tf.function\n",
    "def train_step(image_left,image_right,intrinsic):\n",
    "    with tf.GradientTape(persistent=True) as tape:\n",
    "        #intrinsic = tf.expand_dims(tf.constant([[1,2,3],[4,2,4],[2,1,6]],dtype=tf.float32),axis=0)\n",
    "        #intrinsic = tf.tile(intrinsic,[batch,1,1])\n",
    "\n",
    "        # training=True is only needed if there are layers with different\n",
    "        # behavior during training versus inference (e.g. Dropout).\n",
    "        dcx7_right,dep_right = de(image_right)\n",
    "        #dcx7_left,dep_left = de(image_left)\n",
    "        #loss_depth = dept_est_loss(dep_left,dep_right,image_left,image_right)\n",
    "        #tf.print(\"loss_depth\",loss_depth)\n",
    "        ##not using pose estimation currently because of tensorflow 2.0\n",
    "        t_left,rot_left = pe(image_left)\n",
    "        t_right,rot_right = pe(image_right)\n",
    "        loss_pose = pose_est_loss(rot_right,rot_left,t_left,t_right)\n",
    "        disp = (dep_right[:,:,:,0]+epsilon)\n",
    "        depth = 1/disp\n",
    "        pk = tf.slice(image_right,[0,0,0,0],[-1,-1,-1,3])\n",
    "        pk1 = tf.slice(image_right,[0,0,0,3],[-1,-1,-1,3])\n",
    "        loss_pose_1 = pose_est_loss(rot_right,rot_left,t_left,t_right,pk,pk1,intrinsic,depth)\n",
    "        #tf.print(\"loss_pose\",loss_pose)\n",
    "        loss_pose_total = loss_pose+loss_pose_1\n",
    "\n",
    "    gradients_de = tape.gradient(loss_depth, de.trainable_variables)\n",
    "    gradients_pe = tape.gradient(loss_pose_total, pe.trainable_variables)\n",
    "    optimizer.apply_gradients(zip(gradients_de, de.trainable_variables))\n",
    "    optimizer.apply_gradients(zip(gradients_pe, pe.trainable_variables))\n",
    "    return loss_pose,loss_depth"
   ]
  }
 ],
 "metadata": {
  "kernelspec": {
   "display_name": "Python 3",
   "language": "python",
   "name": "python3"
  },
  "language_info": {
   "codemirror_mode": {
    "name": "ipython",
    "version": 3
   },
   "file_extension": ".py",
   "mimetype": "text/x-python",
   "name": "python",
   "nbconvert_exporter": "python",
   "pygments_lexer": "ipython3",
   "version": "3.6.9"
  }
 },
 "nbformat": 4,
 "nbformat_minor": 4
}
