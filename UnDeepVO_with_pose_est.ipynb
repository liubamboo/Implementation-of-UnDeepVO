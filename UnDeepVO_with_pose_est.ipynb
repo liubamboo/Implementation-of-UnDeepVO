{
 "cells": [
  {
   "cell_type": "code",
   "execution_count": 1,
   "metadata": {},
   "outputs": [],
   "source": [
    "import tensorflow as tf\n",
    "from tensorflow.keras.models import Model\n",
    "from tensorflow.keras.layers import Conv2D,Conv2DTranspose,UpSampling2D,MaxPooling2D,Concatenate,BatchNormalization,Flatten\n",
    "from tensorflow.keras.layers import Dense,Layer\n",
    "import numpy as np\n",
    "from losses import *\n",
    "from nets.dep_network import depth_estimation\n",
    "from nets.pose_network import pose_est\n",
    "from utils import *"
   ]
  },
  {
   "cell_type": "code",
   "execution_count": null,
   "metadata": {},
   "outputs": [],
   "source": []
  },
  {
   "cell_type": "code",
   "execution_count": 2,
   "metadata": {},
   "outputs": [],
   "source": [
    "#pe = pose_est()\n",
    "def pose_est_loss(rot_right,rot_left,t_left,t_right):\n",
    "    ##Spatial loss\n",
    "    #Pose consistency loss\n",
    "    lambd_p = 0.5\n",
    "    lambd_o = 0.5\n",
    "\n",
    "    pc_loss = lambd_p*tf.reduce_mean(tf.abs(t_right-t_left))+lambd_o*tf.reduce_mean(tf.abs(rot_right-rot_left))\n",
    "\n",
    "    #Temporal loss\n",
    "    \n",
    "    return pc_loss\n",
    "\n",
    "def pose_temporal_loss(pk,pk1,translate,rotate,intrinsics,depth):\n",
    "    \"\"\"\n",
    "    Argument :\n",
    "    pk is the pixel in the current frame \n",
    "    pk1 which is p_k+1 is the next frame pixel or next image \n",
    "    \"\"\"\n",
    "    lambd = 0.5\n",
    "    pk1_pred = projective_inverse_warp(pk, depth, translate,rotate, intrinsics)\n",
    "    ssim_loss_pk1 = SSIM(pk1,pk1_pred) \n",
    "    l1_loss_pk1 = tf.reduce_mean(tf.abs(tf.subtract(pk1_pred,pk1)))\n",
    "    \n",
    "    loss_pk1 = lambd*ssim_loss_pk1+(1-lambd)*l1_loss_pk1\n",
    "    return loss_pk1\n",
    "    "
   ]
  },
  {
   "cell_type": "code",
   "execution_count": 6,
   "metadata": {},
   "outputs": [],
   "source": [
    "optimizer = tf.keras.optimizers.Adam(learning_rate=.001)\n",
    "batch=3        \n",
    "@tf.function\n",
    "def train_step(image_left,image_right,pk,pk1):\n",
    "    with tf.GradientTape(persistent=True) as tape:\n",
    "        intrinsic = tf.expand_dims(tf.constant([[1,2,3],[4,2,4],[2,1,6]],dtype=tf.float32),axis=0)\n",
    "        intrinsic = tf.tile(intrinsic,[batch,1,1])\n",
    "\n",
    "        # training=True is only needed if there are layers with different\n",
    "        # behavior during training versus inference (e.g. Dropout).\n",
    "        dcx7_right,dep_right = de(image_right)\n",
    "        #dcx7_left,dep_left = de(image_left)\n",
    "        #loss_depth = dept_est_loss(dep_left,dep_right,image_left,image_right)\n",
    "        #tf.print(\"loss_depth\",loss_depth)\n",
    "        ##not using pose estimation currently because of tensorflow 2.0\n",
    "        t_left,rot_left = pe(image_left)\n",
    "        t_right,rot_right = pe(image_right)\n",
    "        loss_pose = pose_est_loss(rot_right,rot_left,t_left,t_right)\n",
    "        depth = 1/dep_right[:,:,:,0]\n",
    "        loss_pose_1 = pose_temporal_loss(pk,pk1,t_right,rot_right,intrinsic,depth)\n",
    "        #tf.print(\"loss_pose\",loss_pose)\n",
    "        loss_pose_total = loss_pose+loss_pose_1\n",
    "\n",
    "    #gradients_de = tape.gradient(loss_depth, de.trainable_variables)\n",
    "    gradients_pe = tape.gradient(loss_pose_total, pe.trainable_variables)\n",
    "    #optimizer.apply_gradients(zip(gradients_de, de.trainable_variables))\n",
    "    optimizer.apply_gradients(zip(gradients_pe, pe.trainable_variables))\n",
    "    return loss_pose"
   ]
  },
  {
   "cell_type": "code",
   "execution_count": 7,
   "metadata": {},
   "outputs": [
    {
     "name": "stdout",
     "output_type": "stream",
     "text": [
      "epochs :  0\n",
      "loss depth 0.0005899338\n",
      "epochs :  1\n",
      "loss depth 0.00084391364\n",
      "epochs :  2\n",
      "loss depth 4.2622523e-05\n",
      "epochs :  3\n",
      "loss depth 2.002592e-05\n",
      "epochs :  4\n",
      "loss depth 1.5595773e-05\n"
     ]
    }
   ],
   "source": [
    "EPOCHS = 5\n",
    "train_ds = []\n",
    "train_ps = []\n",
    "de = depth_estimation()\n",
    "pe = pose_est()\n",
    "\n",
    "for i in range(5):\n",
    "    #images_left = np.random.randint(0,255,(3,256,256,3)).astype(np.float32)\n",
    "    #images_right = np.random.randint(0,255,(3,256,256,3*2)).astype(np.float32)\n",
    "    images_left = tf.ones((3,128,416,3*2),dtype=tf.float32)*(i)\n",
    "    images_right = tf.ones((3,128,416,3*2),dtype=tf.float32)*(i+2)\n",
    "    train_ds.append([images_left,images_right])\n",
    "for j in range(5):\n",
    "    images_k = tf.ones((3,128,416,3*2))*(j)\n",
    "    images_k1 = tf.ones((3,128,416,3*2))*(j+1)\n",
    "    train_ps.append([images_k,images_k1])\n",
    "#images_left = tf.ones((1,256,256,3*2),dtype=tf.float32)*(0)\n",
    "#images_right = tf.ones((1,256,256,3*2),dtype=tf.float32)*(1)\n",
    "for epoch in range(EPOCHS):\n",
    "    # Reset the metrics at the start of the next epoch\n",
    "    for (images_left,images_right),(images_k,images_k1) in zip(train_ds,train_ps):\n",
    "        ld = train_step(images_left,images_right,images_k,images_k1)\n",
    "    print(\"epochs : \",epoch)\n",
    "    print(\"loss depth\",ld.numpy())\n",
    "    #print(\"loss pose\",lp)"
   ]
  },
  {
   "cell_type": "code",
   "execution_count": null,
   "metadata": {},
   "outputs": [],
   "source": [
    "batch=3\n",
    "intrinsic = tf.expand_dims(tf.constant([[1,1,1],[1,1,1],[1,1,1]],dtype=tf.float32),axis=0)\n",
    "intrinsic = tf.tile(intrinsic,[batch,1,1])\n",
    "#intrinsic.dtype\n",
    "tf.linalg.inv(intrinsic)"
   ]
  },
  {
   "cell_type": "code",
   "execution_count": null,
   "metadata": {},
   "outputs": [],
   "source": [
    "print(inv(intrinsic)"
   ]
  },
  {
   "cell_type": "code",
   "execution_count": null,
   "metadata": {},
   "outputs": [],
   "source": []
  }
 ],
 "metadata": {
  "kernelspec": {
   "display_name": "Python 3",
   "language": "python",
   "name": "python3"
  },
  "language_info": {
   "codemirror_mode": {
    "name": "ipython",
    "version": 3
   },
   "file_extension": ".py",
   "mimetype": "text/x-python",
   "name": "python",
   "nbconvert_exporter": "python",
   "pygments_lexer": "ipython3",
   "version": "3.6.9"
  }
 },
 "nbformat": 4,
 "nbformat_minor": 4
}
