{
 "cells": [
  {
   "cell_type": "code",
   "execution_count": 9,
   "metadata": {},
   "outputs": [],
   "source": [
    "import tensorflow as tf\n",
    "from nets.dep_network import depth_estimation\n",
    "from nets.pose_network import pose_est\n",
    "from losses import *\n",
    "#from utils import *\n",
    "from data_loader import data_loader_with_batch,load_intrinsic"
   ]
  },
  {
   "cell_type": "code",
   "execution_count": 10,
   "metadata": {},
   "outputs": [],
   "source": [
    "epsilon=0.0000001\n",
    "@tf.function\n",
    "def train_step(de,pe,image_left,image_right,intrinsic):\n",
    "    \"\"\"\n",
    "    de is depth estimation model\n",
    "    pe is pose estimation model\n",
    "    intrinsic shape [batch,3,3]\n",
    "    \"\"\"\n",
    "    B = 0.54\n",
    "    f = 721/1242\n",
    "    with tf.GradientTape(watch_accessed_variables=False) as tape_de:\n",
    "        tape_de.watch(de.trainable_variables)\n",
    "        dcx7_right,dep_right = de(image_right)\n",
    "        dcx7_left,dep_left = de(image_left)\n",
    "        loss_depth = dept_est_loss(dep_left,dep_right,image_left,image_right)\n",
    "    \n",
    "    with tf.GradientTape(watch_accessed_variables=False) as tape_pe:\n",
    "        tape_pe.watch(pe.trainable_variables)\n",
    "        t_left,rot_left = pe(image_left)\n",
    "\n",
    "        t_right,rot_right = pe(image_right)\n",
    "        disp = (dep_right[:,:,:,0]+epsilon)\n",
    "        depth = (B*f)/disp\n",
    "        pk = tf.slice(image_right,[0,0,0,0],[-1,-1,-1,3])\n",
    "        pk1 = tf.slice(image_right,[0,0,0,3],[-1,-1,-1,3])\n",
    "        loss_pose_total = pose_est_loss(rot_right,rot_left,t_left,t_right,pk,pk1,intrinsic,depth)\n",
    "        #tf.print(\"loss_pose\",loss_pose)\n",
    "    gradients_de = tape_de.gradient(loss_depth, de.trainable_variables)\n",
    "    gradients_pe = tape_pe.gradient(loss_pose_total, pe.trainable_variables)\n",
    "    return loss_depth,gradients_de,loss_pose_total,gradients_pe"
   ]
  },
  {
   "cell_type": "code",
   "execution_count": 11,
   "metadata": {},
   "outputs": [],
   "source": [
    "train_ds = []\n",
    "train_ps = []\n",
    "#de = depth_estimation()\n",
    "#pe = pose_est()\n",
    "batch = 2\n",
    "\n",
    "##for training images dataset\n",
    "path_dir = \"/home/roboticist/Documents/Swaayatt/swaayatt_optical_flow/dataset_undeepVO/data_scene_flow(1)/training\"\n",
    "left_img_dir = path_dir+\"/image_2/\"\n",
    "right_img_dir = path_dir+\"/image_3/\"\n",
    "img_width = 416\n",
    "img_height = 128\n",
    "batch = 2\n",
    "\n",
    "##for intrinsic the dir is \n",
    "calib_dir = \"/home/roboticist/Documents/Swaayatt/swaayatt_optical_flow/dataset_undeepVO/data_scene_flow(1)/data_scene_flow_calib/training/calib_cam_to_cam/\"\n",
    "internsic_tensor = load_intrinsic(calib_dir,batch)\n",
    "\n",
    "train_ds = data_loader_with_batch(left_img_dir,right_img_dir,img_width,img_height,batch,number_of_data=100)"
   ]
  },
  {
   "cell_type": "code",
   "execution_count": null,
   "metadata": {},
   "outputs": [
    {
     "name": "stdout",
     "output_type": "stream",
     "text": [
      "epochs :  0\n",
      "loss depth 1.3298216\n",
      "loss pose 0.32866976\n",
      "epochs :  1\n",
      "loss depth 1.301612\n",
      "loss pose 0.3150618\n"
     ]
    }
   ],
   "source": [
    "de = depth_estimation()\n",
    "pe = pose_est()\n",
    "EPOCHS = 6\n",
    "optimizer_de = tf.keras.optimizers.Adadelta(0.001)\n",
    "optimizer_pe = tf.keras.optimizers.Adadelta(0.001)\n",
    "\n",
    "for epoch in range(EPOCHS):\n",
    "    # Reset the metrics at the start of the next epoch\n",
    "    for images_left,images_right in train_ds:\n",
    "        ld,grad_de,lp,grad_pe = train_step(de,pe,images_left,images_right,internsic_tensor)\n",
    "        ##ld is the loss in depth\n",
    "        ##lp is the loss in pose\n",
    "        #print(\"initial_loss\",ld.numpy())\n",
    "        optimizer_de.apply_gradients(zip(grad_de, de.trainable_variables))\n",
    "        optimizer_pe.apply_gradients(zip(grad_pe, pe.trainable_variables))\n",
    "        #print(\"Step: {}, Initial Loss: {}\".format(optimizer.iterations.numpy(),ld.numpy()))\n",
    "\n",
    "    #grad = tf.convert_to_tensor(grad)\n",
    "    print(\"epochs : \",epoch)\n",
    "    print(\"loss depth\",ld.numpy())\n",
    "    print(\"loss pose\",lp.numpy())\n",
    "    #print(\"grad\",grad)#.numpy())\n",
    "    #print(\"loss pose\",lp.numpy())"
   ]
  },
  {
   "cell_type": "code",
   "execution_count": 5,
   "metadata": {},
   "outputs": [],
   "source": [
    "_,dep = de(images_right)"
   ]
  },
  {
   "cell_type": "code",
   "execution_count": null,
   "metadata": {},
   "outputs": [],
   "source": []
  },
  {
   "cell_type": "code",
   "execution_count": null,
   "metadata": {},
   "outputs": [],
   "source": []
  }
 ],
 "metadata": {
  "kernelspec": {
   "display_name": "Python 3",
   "language": "python",
   "name": "python3"
  },
  "language_info": {
   "codemirror_mode": {
    "name": "ipython",
    "version": 3
   },
   "file_extension": ".py",
   "mimetype": "text/x-python",
   "name": "python",
   "nbconvert_exporter": "python",
   "pygments_lexer": "ipython3",
   "version": "3.6.9"
  }
 },
 "nbformat": 4,
 "nbformat_minor": 4
}
