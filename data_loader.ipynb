{
 "cells": [
  {
   "cell_type": "code",
   "execution_count": 24,
   "metadata": {},
   "outputs": [],
   "source": [
    "import os\n",
    "import tensorflow as tf\n",
    "import cv2"
   ]
  },
  {
   "cell_type": "code",
   "execution_count": 25,
   "metadata": {},
   "outputs": [],
   "source": [
    "path_dir = \"/home/roboticist/Documents/Swaayatt/swaayatt_optical_flow/dataset_undeepVO/data_scene_flow(1)/training\""
   ]
  },
  {
   "cell_type": "code",
   "execution_count": 47,
   "metadata": {},
   "outputs": [
    {
     "name": "stdout",
     "output_type": "stream",
     "text": [
      "325 µs ± 2.1 µs per loop (mean ± std. dev. of 7 runs, 1000 loops each)\n"
     ]
    }
   ],
   "source": [
    "left = sorted(os.listdir(path_dir+\"/image_2\"))\n",
    "right = sorted(os.listdir(path_dir+\"/image_3\"))\n",
    "#len(a)\n",
    "#print(left)"
   ]
  },
  {
   "cell_type": "code",
   "execution_count": 58,
   "metadata": {},
   "outputs": [],
   "source": [
    "def data_loader(left_image_dir,right_image_dir,image_width,image_height):\n",
    "    training_data = []\n",
    "    left = sorted(os.listdir(left_image_dir))\n",
    "    right = sorted(os.listdir(right_image_dir))\n",
    "    for idx in range(len(left)):\n",
    "        if idx==2:\n",
    "            break\n",
    "        left_imgk = cv2.imread(left_image_dir+left[idx])\n",
    "        left_imgk = cv2.resize(left_imgk,(image_width,image_height))\n",
    "        left_imgk1 = cv2.imread(left_image_dir+left[idx+1])\n",
    "        left_imgk1 = cv2.resize(left_imgk1,(image_width,image_height))\n",
    "        right_imgk = cv2.imread(right_image_dir+right[idx])\n",
    "        right_imgk = cv2.resize(right_imgk,(image_width,image_height))\n",
    "        right_imgk1 = cv2.imread(right_image_dir+right[idx+1])\n",
    "        right_imgk1 = cv2.resize(right_imgk1,(image_width,image_height))\n",
    "        l_k=tf.constant(left_imgk,tf.float32)\n",
    "        l_k1=tf.constant(left_imgk1,tf.float32)\n",
    "        r_k=tf.constant(right_imgk,tf.float32)\n",
    "        r_k1=tf.constant(right_imgk1,tf.float32)\n",
    "\n",
    "        train_left_image = tf.concat([l_k,l_k1],axis=-1)\n",
    "        train_right_image = tf.concat([r_k,r_k1],axis=-1)\n",
    "        training_data.append([train_left_image,train_right_image])\n",
    "    return training_data"
   ]
  },
  {
   "cell_type": "code",
   "execution_count": 59,
   "metadata": {},
   "outputs": [],
   "source": []
  },
  {
   "cell_type": "code",
   "execution_count": 61,
   "metadata": {},
   "outputs": [
    {
     "data": {
      "text/plain": [
       "2"
      ]
     },
     "execution_count": 61,
     "metadata": {},
     "output_type": "execute_result"
    }
   ],
   "source": []
  },
  {
   "cell_type": "code",
   "execution_count": null,
   "metadata": {},
   "outputs": [],
   "source": []
  }
 ],
 "metadata": {
  "kernelspec": {
   "display_name": "Python 3",
   "language": "python",
   "name": "python3"
  },
  "language_info": {
   "codemirror_mode": {
    "name": "ipython",
    "version": 3
   },
   "file_extension": ".py",
   "mimetype": "text/x-python",
   "name": "python",
   "nbconvert_exporter": "python",
   "pygments_lexer": "ipython3",
   "version": "3.6.9"
  }
 },
 "nbformat": 4,
 "nbformat_minor": 4
}
