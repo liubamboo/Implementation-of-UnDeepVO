{
 "cells": [
  {
   "cell_type": "code",
   "execution_count": 8,
   "metadata": {},
   "outputs": [],
   "source": [
    "##clean code for undeepVO\n",
    "import tensorflow as tf\n",
    "from tensorflow.keras.models import Model\n",
    "from tensorflow.keras.layers import Conv2D,Conv2DTranspose,UpSampling2D,MaxPooling2D,Concatenate,BatchNormalization,Flatten\n",
    "from tensorflow.keras.layers import Dense,Layer\n",
    "import numpy as np\n",
    "from losses import *\n",
    "from nets.dep_network import depth_estimation"
   ]
  },
  {
   "cell_type": "code",
   "execution_count": 9,
   "metadata": {},
   "outputs": [],
   "source": [
    "optimizer = tf.keras.optimizers.Adam(learning_rate=.001)\n",
    "@tf.function\n",
    "def train_step(image_left,image_right):\n",
    "    with tf.GradientTape(persistent=True) as tape:\n",
    "        # training=True is only needed if there are layers with different\n",
    "        # behavior during training versus inference (e.g. Dropout).\n",
    "        dcx7_right,dep_right = de(image_right)\n",
    "        dcx7_left,dep_left = de(image_left)\n",
    "        loss_depth = dept_est_loss(dep_left,dep_right,image_left,image_right)\n",
    "        #tf.print(\"loss_depth\",loss_depth)\n",
    "        ##not using pose estimation currently because of tensorflow 2.0\n",
    "        #t_left,rot_left = pe(image_left)\n",
    "        #t_right,rot_right = pe(image_right)\n",
    "        #loss_pose = pose_est_loss(rot_right,rot_left,t_left,t_right)\n",
    "        #tf.print(\"loss_pose\",loss_pose)\n",
    "\n",
    "    gradients_de = tape.gradient(loss_depth, de.trainable_variables)\n",
    "\n",
    "    #  gradients_pe = tape.gradient(loss_pose, pe.trainable_variables)\n",
    "    optimizer.apply_gradients(zip(gradients_de, de.trainable_variables))\n",
    "    #  optimizer.apply_gradients(zip(gradients_pe, pe.trainable_variables))\n",
    "    return loss_depth#,loss_pose"
   ]
  },
  {
   "cell_type": "code",
   "execution_count": 10,
   "metadata": {},
   "outputs": [
    {
     "name": "stdout",
     "output_type": "stream",
     "text": [
      "epochs :  0\n",
      "loss depth 17.80876\n",
      "epochs :  1\n",
      "loss depth 21.611183\n",
      "epochs :  2\n",
      "loss depth 21.39345\n",
      "epochs :  3\n",
      "loss depth 19.898787\n",
      "epochs :  4\n",
      "loss depth 10.260583\n"
     ]
    }
   ],
   "source": [
    "EPOCHS = 5\n",
    "train_ds = []\n",
    "\n",
    "de = depth_estimation()\n",
    "\n",
    "for i in range(5):\n",
    "    #images_left = np.random.randint(0,255,(3,256,256,3)).astype(np.float32)\n",
    "    #images_right = np.random.randint(0,255,(3,256,256,3*2)).astype(np.float32)\n",
    "    images_left = tf.ones((3,256,256,3*2),dtype=tf.float32)*(i)\n",
    "    images_right = tf.ones((3,256,256,3*2),dtype=tf.float32)*(i+2)\n",
    "    train_ds.append([images_left,images_right])\n",
    "\n",
    "#images_left = tf.ones((1,256,256,3*2),dtype=tf.float32)*(0)\n",
    "#images_right = tf.ones((1,256,256,3*2),dtype=tf.float32)*(1)\n",
    "for epoch in range(EPOCHS):\n",
    "    # Reset the metrics at the start of the next epoch\n",
    "    for images_left,images_right in train_ds:\n",
    "        ld = train_step(images_left,images_right)\n",
    "    print(\"epochs : \",epoch)\n",
    "    print(\"loss depth\",ld.numpy())\n",
    "    #print(\"loss pose\",lp)"
   ]
  },
  {
   "cell_type": "code",
   "execution_count": 11,
   "metadata": {},
   "outputs": [
    {
     "data": {
      "text/plain": [
       "'\\nchecking the depth estimation and loss is working\\n_,disp_left = de(images_left)\\nprint(disp_left[:,:,:,0])\\nde1 = depth_estimation()\\n#_,disp_left1 = de(images_left)\\ndcx7_right,dep_right = de1(images_right)\\ndcx7_left,dep_left = de1(images_left)\\nloss_depth = dept_est_loss(dep_left,dep_right,images_left,images_right)\\nprint(loss_depth.numpy())\\ndcx7_right,dep_right = de(images_right)\\ndcx7_left,dep_left = de(images_left)\\nloss_depth = dept_est_loss(dep_left,dep_right,images_left,images_right)\\nprint(loss_depth.numpy())\\n'"
      ]
     },
     "execution_count": 11,
     "metadata": {},
     "output_type": "execute_result"
    }
   ],
   "source": [
    "\"\"\"\n",
    "checking the depth estimation and loss is working\n",
    "_,disp_left = de(images_left)\n",
    "print(disp_left[:,:,:,0])\n",
    "de1 = depth_estimation()\n",
    "#_,disp_left1 = de(images_left)\n",
    "dcx7_right,dep_right = de1(images_right)\n",
    "dcx7_left,dep_left = de1(images_left)\n",
    "loss_depth = dept_est_loss(dep_left,dep_right,images_left,images_right)\n",
    "print(loss_depth.numpy())\n",
    "dcx7_right,dep_right = de(images_right)\n",
    "dcx7_left,dep_left = de(images_left)\n",
    "loss_depth = dept_est_loss(dep_left,dep_right,images_left,images_right)\n",
    "print(loss_depth.numpy())\n",
    "\"\"\""
   ]
  },
  {
   "cell_type": "code",
   "execution_count": null,
   "metadata": {},
   "outputs": [],
   "source": []
  },
  {
   "cell_type": "code",
   "execution_count": null,
   "metadata": {},
   "outputs": [],
   "source": []
  },
  {
   "cell_type": "code",
   "execution_count": null,
   "metadata": {},
   "outputs": [],
   "source": []
  }
 ],
 "metadata": {
  "kernelspec": {
   "display_name": "Python 3",
   "language": "python",
   "name": "python3"
  },
  "language_info": {
   "codemirror_mode": {
    "name": "ipython",
    "version": 3
   },
   "file_extension": ".py",
   "mimetype": "text/x-python",
   "name": "python",
   "nbconvert_exporter": "python",
   "pygments_lexer": "ipython3",
   "version": "3.6.9"
  }
 },
 "nbformat": 4,
 "nbformat_minor": 4
}
