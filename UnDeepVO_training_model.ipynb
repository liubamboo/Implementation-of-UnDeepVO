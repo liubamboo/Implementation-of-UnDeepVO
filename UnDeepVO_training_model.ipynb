{
 "cells": [
  {
   "cell_type": "code",
   "execution_count": 1,
   "metadata": {},
   "outputs": [
    {
     "ename": "SyntaxError",
     "evalue": "invalid syntax (losses.py, line 93)",
     "output_type": "error",
     "traceback": [
      "Traceback \u001b[0;36m(most recent call last)\u001b[0m:\n",
      "  File \u001b[1;32m\"/home/roboticist/Documents/Swaayatt/swaayatt_optical_flow/lib/python3.6/site-packages/IPython/core/interactiveshell.py\"\u001b[0m, line \u001b[1;32m3331\u001b[0m, in \u001b[1;35mrun_code\u001b[0m\n    exec(code_obj, self.user_global_ns, self.user_ns)\n",
      "\u001b[0;36m  File \u001b[0;32m\"<ipython-input-1-23cc3bc8066a>\"\u001b[0;36m, line \u001b[0;32m4\u001b[0;36m, in \u001b[0;35m<module>\u001b[0;36m\u001b[0m\n\u001b[0;31m    from losses import *\u001b[0m\n",
      "\u001b[0;36m  File \u001b[0;32m\"/home/roboticist/Documents/Swaayatt/swaayatt_optical_flow/github_dir/Implementation-of-UnDeepVO/losses.py\"\u001b[0;36m, line \u001b[0;32m93\u001b[0m\n\u001b[0;31m    ssim_loss_pk1 = tf.reduce_mean(SSIM(pk1,pk1_pred)s)\u001b[0m\n\u001b[0m                                                     ^\u001b[0m\n\u001b[0;31mSyntaxError\u001b[0m\u001b[0;31m:\u001b[0m invalid syntax\n"
     ]
    }
   ],
   "source": [
    "import tensorflow as tf\n",
    "from nets.dep_network import depth_estimation\n",
    "from nets.pose_network import pose_est\n",
    "from losses import *\n",
    "#from utils import *\n",
    "from data_loader import data_loader_with_batch,load_intrinsic"
   ]
  },
  {
   "cell_type": "code",
   "execution_count": null,
   "metadata": {},
   "outputs": [],
   "source": [
    "optimizer = tf.keras.optimizers.Adam(learning_rate=.001)\n",
    "epsilon=0.0000001\n",
    "@tf.function\n",
    "def train_step(image_left,image_right,intrinsic):\n",
    "    with tf.GradientTape(persistent=True) as tape:\n",
    "        dcx7_right,dep_right = de(image_right)\n",
    "        dcx7_left,dep_left = de(image_left)\n",
    "        loss_depth = dept_est_loss(dep_left,dep_right,image_left,image_right)\n",
    "        \n",
    "        t_left,rot_left = pe(image_left)\n",
    "        t_right,rot_right = pe(image_right)\n",
    "        disp = (dep_right[:,:,:,0]+epsilon)\n",
    "        depth = 1/disp\n",
    "        pk = tf.slice(image_right,[0,0,0,0],[-1,-1,-1,3])\n",
    "        pk1 = tf.slice(image_right,[0,0,0,3],[-1,-1,-1,3])\n",
    "        loss_pose_total = pose_est_loss(rot_right,rot_left,t_left,t_right,pk,pk1,intrinsic,depth)\n",
    "        #tf.print(\"loss_pose\",loss_pose)\n",
    "\n",
    "    gradients_de = tape.gradient(loss_depth, de.trainable_variables)\n",
    "    gradients_pe = tape.gradient(loss_pose_total, pe.trainable_variables)\n",
    "    optimizer.apply_gradients(zip(gradients_de, de.trainable_variables))\n",
    "    optimizer.apply_gradients(zip(gradients_pe, pe.trainable_variables))\n",
    "    return loss_pose_total,loss_depth"
   ]
  },
  {
   "cell_type": "code",
   "execution_count": null,
   "metadata": {},
   "outputs": [],
   "source": [
    "EPOCHS = 5\n",
    "train_ds = []\n",
    "train_ps = []\n",
    "de = depth_estimation()\n",
    "pe = pose_est()\n",
    "batch = 2\n",
    "\n",
    "##for training images dataset\n",
    "path_dir = \"/home/roboticist/Documents/Swaayatt/swaayatt_optical_flow/dataset_undeepVO/data_scene_flow(1)/training\"\n",
    "left_img_dir = path_dir+\"/image_2/\"\n",
    "right_img_dir = path_dir+\"/image_3/\"\n",
    "img_width = 416\n",
    "img_height = 128\n",
    "batch = 2\n",
    "\n",
    "##for intrinsic the dir is \n",
    "calib_dir = \"/home/roboticist/Documents/Swaayatt/swaayatt_optical_flow/dataset_undeepVO/data_scene_flow(1)/data_scene_flow_calib/training/calib_cam_to_cam/\"\n",
    "internsic_tensor = load_intrinsic(calib_dir,batch)\n",
    "\n",
    "train_ds = data_loader_with_batch(left_img_dir,right_img_dir,img_width,img_height,batch,number_of_data=50)"
   ]
  },
  {
   "cell_type": "code",
   "execution_count": null,
   "metadata": {},
   "outputs": [],
   "source": [
    "for epoch in range(EPOCHS):\n",
    "    # Reset the metrics at the start of the next epoch\n",
    "    for images_left,images_right in train_ds:\n",
    "        lp,ld = train_step(images_left,images_right,internsic_tensor)\n",
    "\n",
    "    print(\"epochs : \",epoch)\n",
    "    print(\"loss depth\",ld.numpy())\n",
    "    print(\"loss pose\",lp.numpy())"
   ]
  },
  {
   "cell_type": "code",
   "execution_count": null,
   "metadata": {},
   "outputs": [],
   "source": []
  }
 ],
 "metadata": {
  "kernelspec": {
   "display_name": "Python 3",
   "language": "python",
   "name": "python3"
  },
  "language_info": {
   "codemirror_mode": {
    "name": "ipython",
    "version": 3
   },
   "file_extension": ".py",
   "mimetype": "text/x-python",
   "name": "python",
   "nbconvert_exporter": "python",
   "pygments_lexer": "ipython3",
   "version": "3.6.9"
  }
 },
 "nbformat": 4,
 "nbformat_minor": 4
}
