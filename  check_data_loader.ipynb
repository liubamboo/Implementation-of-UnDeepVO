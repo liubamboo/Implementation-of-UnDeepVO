{
 "cells": [
  {
   "cell_type": "code",
   "execution_count": 2,
   "metadata": {},
   "outputs": [],
   "source": [
    "\"\"\"\n",
    "currently checking the working of data loader and also sved in dataloader.py file the update the work\n",
    "\"\"\"\n",
    "\n",
    "import os\n",
    "import tensorflow as tf\n",
    "import cv2\n",
    "import numpy as np"
   ]
  },
  {
   "cell_type": "code",
   "execution_count": 3,
   "metadata": {},
   "outputs": [],
   "source": [
    "image_path_dir = \"/home/roboticist/Documents/Swaayatt/swaayatt_optical_flow/dataset_undeepVO/data_scene_flow(1)/training\"\n",
    "calib_dir = \"/home/roboticist/Documents/Swaayatt/swaayatt_optical_flow/dataset_undeepVO/data_scene_flow(1)/data_scene_flow_calib/training/calib_cam_to_cam/\""
   ]
  },
  {
   "cell_type": "code",
   "execution_count": 5,
   "metadata": {},
   "outputs": [],
   "source": [
    "left = sorted(os.listdir(image_path_dir+\"/image_2\"))\n",
    "right = sorted(os.listdir(image_path_dir+\"/image_3\"))\n",
    "calib_file_list = sorted(os.listdir(calib_dir))\n",
    "#len(a)\n",
    "#print(left)"
   ]
  },
  {
   "cell_type": "code",
   "execution_count": 23,
   "metadata": {},
   "outputs": [],
   "source": [
    "def data_loader(left_image_dir,right_image_dir,image_width,image_height,intrinsic_dir,batch=2,number_of_data=None):\n",
    "    training_data = []\n",
    "    left = sorted(os.listdir(left_image_dir))\n",
    "    right = sorted(os.listdir(right_image_dir))\n",
    "    calib_file_list = sorted(os.listdir(intrinsic_dir))\n",
    "    ##load the intrinsic parameter first\n",
    "    ##intrinsic parameter data loader\n",
    "    calib_file_list = sorted(os.listdir(intrinsic_dir))\n",
    "    file = open(calib_dir+calib_file_list[0])\n",
    "    #intrinsic_row = []\n",
    "    intrinsic_list = []\n",
    "    for line in file:\n",
    "        data = line.split()\n",
    "        if 'K_03:'==data[0]:\n",
    "            for d in data[1:]:\n",
    "                intrinsic_list.append(float(d))\n",
    "                \n",
    "    intr = np.array(intrinsic_list,dtype = np.float32).reshape(3,3)\n",
    "    intrinsic = tf.convert_to_tensor(intr,tf.float32)\n",
    "    \n",
    "    if number_of_data == None:\n",
    "        N = len(left)-2\n",
    "    else:\n",
    "        N=number_of_data\n",
    "    idx=0\n",
    "    while idx<N:\n",
    "        #if idx>=N:\n",
    "            #break\n",
    "        for j in  range(batch):\n",
    "            left_imgk = tf.image.decode_png(tf.io.read_file(left_image_dir+left[idx+j]))\n",
    "            left_imgk = tf.image.convert_image_dtype(left_imgk, tf.float32)\n",
    "            l_k = tf.image.resize(left_imgk,  [image_height, image_width])\n",
    "            left_imgk1 = tf.image.decode_png(tf.io.read_file(left_image_dir+left[idx+1+j]))\n",
    "            left_imgk1 = tf.image.convert_image_dtype(left_imgk1, tf.float32)\n",
    "            l_k1 = tf.image.resize(left_imgk1,  [image_height, image_width])\n",
    "            \n",
    "            #if idx==1:\n",
    "                #cv2.imshow('image',left_imgk.numpy())            \n",
    "            #left_imgk1 = cv2.imread(left_image_dir+left[idx+1+j])\n",
    "            #left_imgk1 = cv2.resize(left_imgk1,(image_width,image_height))\n",
    "            right_imgk = tf.image.decode_png(tf.io.read_file(right_image_dir+left[idx+j]))\n",
    "            right_imgk = tf.image.convert_image_dtype(right_imgk, tf.float32)\n",
    "            r_k = tf.image.resize(right_imgk,  [image_height, image_width])\n",
    "            right_imgk1 = tf.image.decode_png(tf.io.read_file(right_image_dir+left[idx+1+j]))\n",
    "            right_imgk1 = tf.image.convert_image_dtype(right_imgk1, tf.float32)\n",
    "            r_k1 = tf.image.resize(right_imgk1,  [image_height, image_width])\n",
    "            #left_imgk = cv2.imread(left_image_dir+left[idx+j])\n",
    "            #left_imgk = cv2.resize(left_imgk,(image_width,image_height))\n",
    "            #left_imgk1 = cv2.imread(left_image_dir+left[idx+1+j])\n",
    "            #left_imgk1 = cv2.resize(left_imgk1,(image_width,image_height))\n",
    "            #right_imgk = cv2.imread(right_image_dir+right[idx+j])\n",
    "            #right_imgk = cv2.resize(right_imgk,(image_width,image_height))\n",
    "            #right_imgk1 = cv2.imread(right_image_dir+right[idx+1+j])\n",
    "            #right_imgk1 = cv2.resize(right_imgk1,(image_width,image_height))\n",
    "            #l_k = tf.constant(left_imgk,tf.float32)\n",
    "            #l_k1 = tf.constant(left_imgk1,tf.float32)\n",
    "            #r_k = tf.constant(right_imgk,tf.float32)\n",
    "            #r_k1 = tf.constant(right_imgk1,tf.float32)\n",
    "            #print(left_image_dir+left[idx+j])\n",
    "            #if idx==1:\n",
    "                #cv2.imshow('image',l_k.numpy())\n",
    "                #cv2.waitKey(0)\n",
    "                #cv2.destroyAllWindows()\n",
    "            train_left_image = tf.concat([l_k,l_k1],axis=2)\n",
    "            train_right_image = tf.concat([r_k,r_k1],axis=2)\n",
    "            #if idx==1:\n",
    "            #    left_image = tf.slice(train_left_image,[0,0,0],[-1,-1,3])\n",
    "            #    x = left_image.numpy().reshape(img_height,img_width,3).astype(np.float32)\n",
    "                #cv2.imshow('image',x)\n",
    "                #cv2.waitKey(0)\n",
    "                #cv2.destroyAllWindows()\n",
    "                #print(x.shape)\n",
    "                #print(left.shape)\n",
    "            #print(train_left_image.shape)\n",
    "            #print(train_left_image.shape)\n",
    "            if j==0:\n",
    "                train_batch_left = tf.expand_dims(train_left_image,axis=0)\n",
    "                train_batch_right = tf.expand_dims(train_right_image,axis=0)\n",
    "            else:\n",
    "                train_left_image = tf.expand_dims(train_left_image,axis=0)\n",
    "                train_right_image = tf.expand_dims(train_right_image,axis=0)\n",
    "                train_batch_left = tf.concat([train_batch_left,train_left_image],axis=0)\n",
    "                train_batch_right = tf.concat([train_batch_right,train_right_image],axis=0)\n",
    "            idx+=1\n",
    "            if idx>=N:\n",
    "                break\n",
    "        if idx<N:\n",
    "            training_data.append([train_batch_left,train_batch_right])\n",
    "    return training_data,intrinsic\n",
    "    "
   ]
  },
  {
   "cell_type": "code",
   "execution_count": 25,
   "metadata": {},
   "outputs": [],
   "source": [
    "path_dir = \"/home/roboticist/Documents/Swaayatt/swaayatt_optical_flow/dataset_undeepVO/data_scene_flow(1)/training\"\n",
    "left_img_dir = path_dir+\"/image_2/\"\n",
    "right_img_dir = path_dir+\"/image_3/\"\n",
    "img_width = 416\n",
    "img_height = 128\n",
    "\n",
    "train_ds,intrinsic = data_loader(left_img_dir,right_img_dir,img_width,img_height,calib_dir,batch=1,number_of_data=22)\n",
    "#image = cv2.imread(\"/home/roboticist/Documents/Swaayatt/swaayatt_optical_flow/dataset_undeepVO/data_scene_flow(1)/training/image_2/000000_10.png\")\n",
    "#cv2.imshow(\"image\",image)\n",
    "#cv2.waitKey(0)\n",
    "#cv2.destroyAllWindows()\n"
   ]
  },
  {
   "cell_type": "code",
   "execution_count": 62,
   "metadata": {},
   "outputs": [],
   "source": [
    "for i,(left,right) in enumerate(train_ds):\n",
    "    if i==1:\n",
    "        left_image = tf.slice(left,[0,0,0,0],[-1,-1,-1,3])\n",
    "        x = left_image.numpy().reshape(img_height,img_width,3).astype(np.float32)\n",
    "        #print(x.shape)\n",
    "        #print(left.shape)\n",
    "        cv2.imshow(\"image\",x)\n",
    "cv2.waitKey(0)\n",
    "cv2.destroyAllWindows()\n",
    "    "
   ]
  },
  {
   "cell_type": "code",
   "execution_count": 26,
   "metadata": {},
   "outputs": [
    {
     "name": "stdout",
     "output_type": "stream",
     "text": [
      "tf.Tensor(\n",
      "[[903.7596   0.     695.7519]\n",
      " [  0.     901.9653 224.2509]\n",
      " [  0.       0.       1.    ]], shape=(3, 3), dtype=float32)\n"
     ]
    }
   ],
   "source": [
    "print(intrinsic)"
   ]
  },
  {
   "cell_type": "code",
   "execution_count": 17,
   "metadata": {},
   "outputs": [],
   "source": [
    "##intrinsic parameter data loader\n",
    "calib_file_list = sorted(os.listdir(calib_dir))\n",
    "file = open(calib_dir+calib_file_list[0])"
   ]
  },
  {
   "cell_type": "code",
   "execution_count": 18,
   "metadata": {},
   "outputs": [],
   "source": [
    "#intrinsic_row = []\n",
    "intrinsic = []\n",
    "for line in file:\n",
    "    data = line.split()\n",
    "    if 'K_03:'==data[0]:\n",
    "        for d in data[1:]:\n",
    "            intrinsic.append(float(d))"
   ]
  },
  {
   "cell_type": "code",
   "execution_count": 20,
   "metadata": {},
   "outputs": [],
   "source": [
    "a = np.array(intrinsic,dtype = np.float32).reshape(3,3)"
   ]
  },
  {
   "cell_type": "code",
   "execution_count": 22,
   "metadata": {},
   "outputs": [
    {
     "name": "stdout",
     "output_type": "stream",
     "text": [
      "tf.Tensor(\n",
      "[[903.7596   0.     695.7519]\n",
      " [  0.     901.9653 224.2509]\n",
      " [  0.       0.       1.    ]], shape=(3, 3), dtype=float32)\n"
     ]
    }
   ],
   "source": [
    "tensor = tf.convert_to_tensor(a,dtype=tf.float32)\n",
    "print(tensor)"
   ]
  },
  {
   "cell_type": "code",
   "execution_count": null,
   "metadata": {},
   "outputs": [],
   "source": []
  }
 ],
 "metadata": {
  "kernelspec": {
   "display_name": "Python 3",
   "language": "python",
   "name": "python3"
  },
  "language_info": {
   "codemirror_mode": {
    "name": "ipython",
    "version": 3
   },
   "file_extension": ".py",
   "mimetype": "text/x-python",
   "name": "python",
   "nbconvert_exporter": "python",
   "pygments_lexer": "ipython3",
   "version": "3.6.9"
  }
 },
 "nbformat": 4,
 "nbformat_minor": 4
}
